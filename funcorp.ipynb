{
  "nbformat": 4,
  "nbformat_minor": 0,
  "metadata": {
    "colab": {
      "provenance": [],
      "authorship_tag": "ABX9TyM6WufCzbduM8/a5NrmoL+5",
      "include_colab_link": true
    },
    "kernelspec": {
      "name": "python3",
      "display_name": "Python 3"
    },
    "language_info": {
      "name": "python"
    }
  },
  "cells": [
    {
      "cell_type": "markdown",
      "metadata": {
        "id": "view-in-github",
        "colab_type": "text"
      },
      "source": [
        "<a href=\"https://colab.research.google.com/github/Brunoab80/Estudo-PUC-RS---Programa-o-para-Dados/blob/main/funcorp.ipynb\" target=\"_parent\"><img src=\"https://colab.research.google.com/assets/colab-badge.svg\" alt=\"Open In Colab\"/></a>"
      ]
    },
    {
      "cell_type": "code",
      "execution_count": 5,
      "metadata": {
        "colab": {
          "base_uri": "https://localhost:8080/",
          "height": 211
        },
        "id": "uTu1w-XKAAlH",
        "outputId": "e8cff55d-727f-4e2b-eed5-b2ff1f3bc33a"
      },
      "outputs": [
        {
          "output_type": "error",
          "ename": "FileNotFoundError",
          "evalue": "[Errno 2] No such file or directory: 'jogoscompletos.csv'",
          "traceback": [
            "\u001b[0;31m---------------------------------------------------------------------------\u001b[0m",
            "\u001b[0;31mFileNotFoundError\u001b[0m                         Traceback (most recent call last)",
            "\u001b[0;32m<ipython-input-5-c9eb852678f6>\u001b[0m in \u001b[0;36m<cell line: 4>\u001b[0;34m()\u001b[0m\n\u001b[1;32m      2\u001b[0m \u001b[0;31m#Leitura de arquivo .csv do Steam\u001b[0m\u001b[0;34m\u001b[0m\u001b[0;34m\u001b[0m\u001b[0m\n\u001b[1;32m      3\u001b[0m \u001b[0;31m#\u001b[0m\u001b[0;34m\u001b[0m\u001b[0;34m\u001b[0m\u001b[0m\n\u001b[0;32m----> 4\u001b[0;31m \u001b[0mf\u001b[0m \u001b[0;34m=\u001b[0m \u001b[0mopen\u001b[0m\u001b[0;34m(\u001b[0m\u001b[0;34m\"jogoscompletos.csv\"\u001b[0m\u001b[0;34m)\u001b[0m\u001b[0;34m\u001b[0m\u001b[0;34m\u001b[0m\u001b[0m\n\u001b[0m\u001b[1;32m      5\u001b[0m \u001b[0;34m\u001b[0m\u001b[0m\n\u001b[1;32m      6\u001b[0m \u001b[0mgratuitos\u001b[0m \u001b[0;34m=\u001b[0m \u001b[0;36m0\u001b[0m\u001b[0;34m\u001b[0m\u001b[0;34m\u001b[0m\u001b[0m\n",
            "\u001b[0;31mFileNotFoundError\u001b[0m: [Errno 2] No such file or directory: 'jogoscompletos.csv'"
          ]
        }
      ],
      "source": [
        "#\n",
        "#Leitura de arquivo .csv do Steam\n",
        "#\n",
        "f = open(\"jogoscompletos.csv\")\n",
        "\n",
        "gratuitos = 0\n",
        "pagos = 0\n",
        "\n",
        "\n",
        "jogos_por_ano = {}\n",
        "maior_ano = 0\n",
        "\n",
        "maior_idade = 0\n",
        "jogo_com_maior_idade = \"\"\n",
        "\n",
        "for line in f:\n",
        "  lista = line.strip().split(',')\n",
        "  #-------Determinar a quantidade de jogos pagos e gratuitos------\n",
        "  if lista[7] == '0.0':\n",
        "    gratuitos += 1\n",
        "  else:\n",
        "    pagos += 1\n",
        "#______Ler lista de lançamentos de jogos novos e somar por ano____\n",
        "\n",
        "  ano = lista[3]\n",
        "  if ano in jogos_por_ano:\n",
        "    jogos_por_ano[ano] += 1\n",
        "  else:\n",
        "    jogos_por_ano[ano] = 1\n",
        "\n",
        "  idade_minima = int(lista[6])\n",
        "  if idade_minima > maior_idade:\n",
        "    maior_idade = idade_minima\n",
        "    jogo_com_maior_idade = lista[1]\n",
        "#-----imprimir a porventagem de jogos gratuitos e pagos------\n",
        "print(gratuitos / (gratuitos + pagos) * 100, '% de jogos gratuitos')\n",
        "print(pagos / (pagos + gratuitos) * 100, '% de jogos pagos')\n",
        "\n",
        "\n",
        "\n",
        "#----Determinar o ano com mais jogos novos-------------------\n",
        "for ano, quantidade in jogos_por_ano.items():\n",
        "  maior_ano = max(jogos_por_ano.values())\n",
        "  print(f\"Ano {ano}: {quantidade} jogos novos\")\n",
        "  if maior_ano == jogos_por_ano[ano]:\n",
        "    print(f\"O ano com mais jogos novos é {ano}\")\n",
        "#------Determinar o jogo com a Idade mínima mais alta------\n",
        "\n",
        "print(f\"O jogo com a maior idade mínima é: {jogo_com_maior_idade}\")"
      ]
    }
  ]
}